{
 "cells": [
  {
   "cell_type": "markdown",
   "metadata": {},
   "source": [
    "# LDAP with OpenDJ\n",
    "\n",
    "+ github repository: `https://github.com/OpenIdentityPlatform/OpenDJ`\n",
    "\n",
    "+ running as a container as follows:\n",
    "\n",
    "```bash\n",
    "export IMAGE_NAME=openidentityplatform/opendj\n",
    "export CONTAINER_NAME=opendj\n",
    "export CONTAINER_HOSTNAME=ldap01.domain.com\n",
    "export BASE_DN=dc=inflinx,dc=com\n",
    "\n",
    "# Pull latest container\n",
    "docker pull $IMAGE_NAME\n",
    "\n",
    "# Start container\n",
    "docker run -h $CONTAINER_HOSTNAME -p 1389:1389 -p 1636:1636 -p 4444:4444 \\\n",
    "-e BASE_DN=$BASE_DN --name $CONTAINER_NAME -t $IMAGE_NAME\n",
    "\n",
    "# docker run -h ldap-01.domain.com -p 1389:1389 -p 1636:1636 -p 4444:4444 \\\n",
    "# --name ldap-01 openidentityplatform/opendj\n",
    "\n",
    "docker logs --follow $CONTAINER_NAME\n",
    "\n",
    "```\n",
    "\n",
    "+ use apacheds studio tools located here: \n",
    "`https://directory.apache.org/studio/downloads.html`\n",
    "\n",
    "+ importing ldap3: \n",
    "`pip3 install ldap3`\n",
    "\n",
    " website for python ldap3: \n",
    "`https://ldap3.readthedocs.io/en/latest/index.html`\n",
    "\n",
    "+ ldif files extracted from: \n",
    "`https://github.com/apress/practical-spring-ldap`\n",
    "\n",
    "+ test ldif files: \n",
    "`employees.ldif` and `patrons.ldif`\n",
    "\n",
    "\n",
    "+ import ldif files into the ldap server using `import` feature of apacheds studio.\n",
    "the second import should be an update since it is uses the same `dc=inflinx,dc=com`\n",
    "\n",
    "+ when use `ldap3` library, make sure not to have spaces between the `dc`s\n"
   ]
  },
  {
   "cell_type": "code",
   "execution_count": null,
   "metadata": {},
   "outputs": [],
   "source": [
    "from ldap3 import Server, Connection, MODIFY_ADD, MODIFY_REPLACE, ALL_ATTRIBUTES\n",
    "from ldap3.utils.dn import safe_rdn"
   ]
  },
  {
   "cell_type": "code",
   "execution_count": null,
   "metadata": {},
   "outputs": [],
   "source": [
    "server = Server('localhost:1389')"
   ]
  },
  {
   "cell_type": "code",
   "execution_count": null,
   "metadata": {},
   "outputs": [],
   "source": [
    "conn = Connection(server, 'cn=Directory Manager', 'password', auto_bind=True)"
   ]
  },
  {
   "cell_type": "code",
   "execution_count": null,
   "metadata": {},
   "outputs": [],
   "source": [
    "server.schema"
   ]
  },
  {
   "cell_type": "code",
   "execution_count": null,
   "metadata": {},
   "outputs": [],
   "source": [
    "print(server.info)"
   ]
  },
  {
   "cell_type": "code",
   "execution_count": null,
   "metadata": {},
   "outputs": [],
   "source": [
    "dir(conn)"
   ]
  },
  {
   "cell_type": "code",
   "execution_count": null,
   "metadata": {},
   "outputs": [],
   "source": [
    "conn.version"
   ]
  },
  {
   "cell_type": "code",
   "execution_count": null,
   "metadata": {},
   "outputs": [],
   "source": [
    "print(server.schema.object_classes['inetorgperson'])"
   ]
  },
  {
   "cell_type": "code",
   "execution_count": null,
   "metadata": {},
   "outputs": [],
   "source": [
    "print(server.schema.object_classes['organizationalperson'])"
   ]
  },
  {
   "cell_type": "code",
   "execution_count": null,
   "metadata": {},
   "outputs": [],
   "source": [
    "print(server.schema.object_classes['person'])"
   ]
  },
  {
   "cell_type": "code",
   "execution_count": null,
   "metadata": {},
   "outputs": [],
   "source": [
    "print(server.schema.object_classes['top'])"
   ]
  },
  {
   "cell_type": "code",
   "execution_count": null,
   "metadata": {},
   "outputs": [],
   "source": [
    "# Search entries with email ends with @inflinx.com\n",
    "print(conn.search('ou=employees,dc=inflinx,dc=com', '(&(mail=*@inflinx.com))'))"
   ]
  },
  {
   "cell_type": "code",
   "execution_count": null,
   "metadata": {},
   "outputs": [],
   "source": [
    "print(conn.entries[0])\n",
    "print(len(conn.entries))"
   ]
  },
  {
   "cell_type": "code",
   "execution_count": null,
   "metadata": {},
   "outputs": [],
   "source": [
    "# Search entries with email ends with @inflinx.com\n",
    "print(conn.search('ou=patrons,dc=inflinx,dc=com', '(&(mail=*@inflinx.com))'))"
   ]
  },
  {
   "cell_type": "code",
   "execution_count": null,
   "metadata": {},
   "outputs": [],
   "source": [
    "# Display the first element of the search results\n",
    "print(conn.entries[0])\n",
    "print(len(conn.entries))"
   ]
  },
  {
   "cell_type": "code",
   "execution_count": null,
   "metadata": {},
   "outputs": [],
   "source": []
  }
 ],
 "metadata": {
  "celltoolbar": "Tags",
  "kernelspec": {
   "display_name": "Python 3",
   "language": "python",
   "name": "python3"
  },
  "language_info": {
   "codemirror_mode": {
    "name": "ipython",
    "version": 3
   },
   "file_extension": ".py",
   "mimetype": "text/x-python",
   "name": "python",
   "nbconvert_exporter": "python",
   "pygments_lexer": "ipython3",
   "version": "3.6.9"
  }
 },
 "nbformat": 4,
 "nbformat_minor": 4
}
